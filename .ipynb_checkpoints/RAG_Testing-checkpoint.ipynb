{
 "cells": [
  {
   "cell_type": "code",
   "execution_count": 1,
   "id": "afab2056-ddb8-409d-99ee-f9f33ea1a786",
   "metadata": {},
   "outputs": [],
   "source": [
    "import os\n",
    "from langchain_google_genai import GoogleGenerativeAIEmbeddings, ChatGoogleGenerativeAI\n",
    "from langchain_community.document_loaders import BSHTMLLoader # BeautifulSoup HTML Loader\n",
    "from langchain.text_splitter import RecursiveCharacterTextSplitter\n",
    "from langchain_community.vectorstores import Chroma\n",
    "from langchain.chains import RetrievalQA\n",
    "from langchain_core.prompts import PromptTemplate\n",
    "from langchain_core.runnables import RunnablePassthrough\n",
    "from langchain_core.output_parsers import StrOutputParser"
   ]
  },
  {
   "cell_type": "code",
   "execution_count": 2,
   "id": "c2d8f517-8225-4bee-ab52-44eab9e5be33",
   "metadata": {},
   "outputs": [],
   "source": [
    "os.environ['LANGCHAIN_TRACING_V2'] = 'true'\n",
    "os.environ['LANGCHAIN_ENDPOINT'] = 'https://api.smith.langchain.com'\n",
    "os.environ['LANGCHAIN_API_KEY'] = os.environ.get('LANGCHAIN_API_KEY')"
   ]
  },
  {
   "cell_type": "code",
   "execution_count": 3,
   "id": "e0af63b4-56ff-42a6-aec0-f06c2c8c99c7",
   "metadata": {},
   "outputs": [],
   "source": [
    "os.environ[\"GOOGLE_API_KEY\"] = os.environ.get('GOOGLE_GEMNI_API_KEY')"
   ]
  },
  {
   "cell_type": "code",
   "execution_count": 21,
   "id": "8f60b00b-22c1-4515-ad9b-0f2395f108b9",
   "metadata": {},
   "outputs": [],
   "source": [
    "HTML_FILE_PATH = 'Source_Material/Example_game.html'\n",
    "EMBEDDING_MODEL_NAME = \"models/text-embedding-004\"\n",
    "GENERATION_MODEL_NAME = \"gemini-2.0-flash\"\n",
    "CHROMA_PERSIST_DIR = \"chroma_db_html\" # Directory to store Chroma data\n",
    "CHROMA_COLLECTION_NAME = \"html_docs\"   # Name for your collection within Chroma"
   ]
  },
  {
   "cell_type": "code",
   "execution_count": 5,
   "id": "71720197-3601-444d-90fe-53e28462f9ed",
   "metadata": {},
   "outputs": [],
   "source": [
    "llm = ChatGoogleGenerativeAI(\n",
    "    model=\"gemini-2.0-flash\",\n",
    "    temperature=0,\n",
    "    max_tokens=None,\n",
    "    timeout=None,\n",
    "    max_retries=2,\n",
    "    # other params...\n",
    ")"
   ]
  },
  {
   "cell_type": "code",
   "execution_count": 5,
   "id": "b0ba4628-8a39-4774-9746-454ad56627a2",
   "metadata": {},
   "outputs": [
    {
     "name": "stdout",
     "output_type": "stream",
     "text": [
      "1. Loading HTML from 'Source_Material/Example_game.html'...\n"
     ]
    }
   ],
   "source": [
    "print(f\"1. Loading HTML from '{HTML_FILE_PATH}'...\")\n",
    "loader = BSHTMLLoader(HTML_FILE_PATH)\n",
    "documents = loader.load()"
   ]
  },
  {
   "cell_type": "code",
   "execution_count": 39,
   "id": "a4dff0fa-4657-4c8f-9791-050534f9867c",
   "metadata": {},
   "outputs": [
    {
     "name": "stdout",
     "output_type": "stream",
     "text": [
      "\n",
      "2. Splitting documents into chunks...\n"
     ]
    }
   ],
   "source": [
    "print(\"\\n2. Splitting documents into chunks...\")\n",
    "text_splitter = RecursiveCharacterTextSplitter(\n",
    "    chunk_size=100000,\n",
    "    chunk_overlap=50000,\n",
    "    separators=[\"\\n\\n\", \"\\n\", \" \", \"\"] # Sensible defaults\n",
    ")\n",
    "chunks = text_splitter.split_documents(documents)"
   ]
  },
  {
   "cell_type": "code",
   "execution_count": 40,
   "id": "2dd4588f-9820-470f-8d3f-09c83063571b",
   "metadata": {},
   "outputs": [
    {
     "name": "stdout",
     "output_type": "stream",
     "text": [
      "\n",
      "3. Initializing Gemini Embeddings model...\n"
     ]
    }
   ],
   "source": [
    "print(\"\\n3. Initializing Gemini Embeddings model...\")\n",
    "embeddings = GoogleGenerativeAIEmbeddings(model=EMBEDDING_MODEL_NAME, task_type=\"retrieval_document\")"
   ]
  },
  {
   "cell_type": "code",
   "execution_count": 41,
   "id": "f0d54fbe-4198-4c33-acaa-fa3656bf3db2",
   "metadata": {},
   "outputs": [
    {
     "name": "stdout",
     "output_type": "stream",
     "text": [
      "\n",
      "4. Creating/Loading ChromaDB vector store...\n",
      "   Loading existing ChromaDB from 'chroma_db_html'...\n",
      "   ChromaDB loaded successfully.\n",
      "   ChromaDB loaded with 69 documents. Not re-populating unless forced.\n"
     ]
    }
   ],
   "source": [
    "print(\"\\n4. Creating/Loading ChromaDB vector store...\")\n",
    "vector_store = None\n",
    "# Try to load existing store if persist_directory exists\n",
    "if os.path.exists(CHROMA_PERSIST_DIR):\n",
    "    print(f\"   Loading existing ChromaDB from '{CHROMA_PERSIST_DIR}'...\")\n",
    "    try:\n",
    "        vector_store = Chroma(\n",
    "            persist_directory=CHROMA_PERSIST_DIR,\n",
    "            embedding_function=embeddings,\n",
    "            collection_name=CHROMA_COLLECTION_NAME\n",
    "        )\n",
    "        print(\"   ChromaDB loaded successfully.\")\n",
    "        # A quick check to see if it has documents\n",
    "        # This is a bit of a hacky way, a better check would be to see if collection has items\n",
    "        try:\n",
    "            if vector_store._collection.count() == 0 and chunks: # If loaded but empty, and we have chunks\n",
    "                 print(\"   Existing ChromaDB is empty. Re-populating...\")\n",
    "                 vector_store = Chroma.from_documents(\n",
    "                    documents=chunks,\n",
    "                    embedding=embeddings,\n",
    "                    persist_directory=CHROMA_PERSIST_DIR, # Specify directory to save data\n",
    "                    collection_name=CHROMA_COLLECTION_NAME\n",
    "                )\n",
    "                 vector_store.persist() # Explicitly persist\n",
    "                 print(\"   ChromaDB populated and persisted.\")\n",
    "            elif not chunks and vector_store._collection.count() == 0:\n",
    "                 print(\"   ChromaDB is empty and no new chunks to add.\")\n",
    "            elif chunks and vector_store._collection.count() > 0:\n",
    "                print(f\"   ChromaDB loaded with {vector_store._collection.count()} documents. Not re-populating unless forced.\")\n",
    "                # Optionally, add logic here to decide if you want to re-index or add new documents\n",
    "                # For simplicity, we'll assume if it exists and has content, we use it.\n",
    "                # If you modify your HTML, you'd need to delete CHROMA_PERSIST_DIR or implement updating logic.\n",
    "\n",
    "        except Exception as e: # If loading fails, or collection is empty and we want to rebuild\n",
    "            print(f\"   Error loading or checking existing ChromaDB, or it's empty: {e}. Rebuilding...\")\n",
    "            vector_store = Chroma.from_documents(\n",
    "                documents=chunks,\n",
    "                embedding=embeddings,\n",
    "                persist_directory=CHROMA_PERSIST_DIR, # Specify directory to save data\n",
    "                collection_name=CHROMA_COLLECTION_NAME\n",
    "            )\n",
    "            vector_store.persist() # Explicitly persist\n",
    "            print(\"   New ChromaDB created and persisted.\")\n",
    "\n",
    "    except Exception as e:\n",
    "        print(f\"   Could not load ChromaDB from '{CHROMA_PERSIST_DIR}': {e}. Creating new one.\")\n",
    "        # Fall through to creating a new one if loading fails critically"
   ]
  },
  {
   "cell_type": "code",
   "execution_count": 42,
   "id": "940d3768-05c3-4d5a-bbcb-b2b82989ceb8",
   "metadata": {},
   "outputs": [
    {
     "name": "stdout",
     "output_type": "stream",
     "text": [
      "\n",
      "5. Creating retriever from vector store...\n",
      "   Retriever created.\n"
     ]
    }
   ],
   "source": [
    "if vector_store is None and chunks: # If not loaded and we have chunks, create new\n",
    "    print(f\"   Creating new ChromaDB and persisting to '{CHROMA_PERSIST_DIR}'...\")\n",
    "    vector_store = Chroma.from_documents(\n",
    "        documents=chunks,\n",
    "        embedding=embeddings,\n",
    "        persist_directory=CHROMA_PERSIST_DIR, # Specify directory to save data\n",
    "        collection_name=CHROMA_COLLECTION_NAME\n",
    "    )\n",
    "    vector_store.persist() # Explicitly persist\n",
    "    print(\"   New ChromaDB created and persisted.\")\n",
    "elif vector_store is None and not chunks:\n",
    "    print(\"🔴 No chunks to process and no existing ChromaDB found. Exiting.\")\n",
    "    exit()\n",
    "\n",
    "\n",
    "# 5. Create a Retriever from the Vector Store (same as before)\n",
    "print(\"\\n5. Creating retriever from vector store...\")\n",
    "retriever = vector_store.as_retriever(search_kwargs={'k': 3})\n",
    "print(\"   Retriever created.\")"
   ]
  },
  {
   "cell_type": "code",
   "execution_count": 43,
   "id": "ec820c81-923b-43af-ab3b-4c647c5ff975",
   "metadata": {},
   "outputs": [
    {
     "name": "stdout",
     "output_type": "stream",
     "text": [
      "\n",
      "6. Initializing Gemini LLM for generation...\n"
     ]
    }
   ],
   "source": [
    "# 6. Initialize LLM for Generation (same as before)\n",
    "print(\"\\n6. Initializing Gemini LLM for generation...\")\n",
    "llm = ChatGoogleGenerativeAI(model=GENERATION_MODEL_NAME, temperature=0)"
   ]
  },
  {
   "cell_type": "code",
   "execution_count": 44,
   "id": "bae39de2-a941-47bc-abc7-e7358aa042f1",
   "metadata": {},
   "outputs": [
    {
     "name": "stdout",
     "output_type": "stream",
     "text": [
      "\n",
      "7. Setting up RAG chain with LCEL...\n"
     ]
    }
   ],
   "source": [
    "print(\"\\n7. Setting up RAG chain with LCEL...\")\n",
    "prompt_template_question = \"\"\"You are a sports data analyst assistant.\n",
    "Use the following pieces of retrieved context to answer the question.\n",
    "If you don't know the answer, just say that you don't know.\n",
    "\n",
    "Context:\n",
    "{context}\n",
    "\n",
    "Question: {question}\n",
    "\n",
    "Answer:\"\"\""
   ]
  },
  {
   "cell_type": "code",
   "execution_count": 45,
   "id": "8f2aa53c-ab65-46ec-9ad2-f00fe5658606",
   "metadata": {},
   "outputs": [],
   "source": [
    "prompt = PromptTemplate.from_template(prompt_template_question)"
   ]
  },
  {
   "cell_type": "code",
   "execution_count": 46,
   "id": "3b511f07-7a69-4931-9ed7-46feab3307aa",
   "metadata": {},
   "outputs": [],
   "source": [
    "def format_docs(docs):\n",
    "    return \"\\n\\n\".join(doc.page_content for doc in docs)"
   ]
  },
  {
   "cell_type": "code",
   "execution_count": 47,
   "id": "f32d13f2-1d55-4efa-bf1d-c5c22675ac00",
   "metadata": {},
   "outputs": [
    {
     "name": "stdout",
     "output_type": "stream",
     "text": [
      "   LCEL RAG chain created.\n"
     ]
    }
   ],
   "source": [
    "rag_chain = (\n",
    "    {\"context\": retriever | format_docs, \"question\": RunnablePassthrough()}\n",
    "    | prompt\n",
    "    | llm\n",
    "    | StrOutputParser()\n",
    ")\n",
    "print(\"   LCEL RAG chain created.\")"
   ]
  },
  {
   "cell_type": "code",
   "execution_count": 48,
   "id": "232e25a5-032b-4946-8f70-8404cc3c9c8b",
   "metadata": {},
   "outputs": [],
   "source": [
    "def ask_question(query, chain):\n",
    "    print(f\"\\n❓ Querying: '{query}'\")\n",
    "    try:\n",
    "        answer = chain.invoke(query)\n",
    "        print(chain)\n",
    "        print(\"🗣️ Answer:\", answer)\n",
    "    except Exception as e:\n",
    "        print(f\"🔴 Error during query: {e}\")"
   ]
  },
  {
   "cell_type": "code",
   "execution_count": 49,
   "id": "ced08d19-3b5c-4537-a98f-1c158d6cbc76",
   "metadata": {},
   "outputs": [
    {
     "name": "stdout",
     "output_type": "stream",
     "text": [
      "\n",
      "❓ Querying: 'What were the keys to the Knicks and Pacers Game?'\n",
      "first={\n",
      "  context: VectorStoreRetriever(tags=['Chroma', 'GoogleGenerativeAIEmbeddings'], vectorstore=<langchain_community.vectorstores.chroma.Chroma object at 0x000002E3AE09C130>, search_kwargs={'k': 3})\n",
      "           | RunnableLambda(format_docs),\n",
      "  question: RunnablePassthrough()\n",
      "} middle=[PromptTemplate(input_variables=['context', 'question'], input_types={}, partial_variables={}, template=\"You are a sports data analyst assistant.\\nUse the following pieces of retrieved context to answer the question.\\nIf you don't know the answer, just say that you don't know.\\n\\nContext:\\n{context}\\n\\nQuestion: {question}\\n\\nAnswer:\"), ChatGoogleGenerativeAI(model='models/gemini-2.0-flash', google_api_key=SecretStr('**********'), temperature=0.0, client=<google.ai.generativelanguage_v1beta.services.generative_service.client.GenerativeServiceClient object at 0x000002E3AE0AACB0>, default_metadata=(), model_kwargs={})] last=StrOutputParser()\n",
      "🗣️ Answer: Based on the context provided, I can only provide the play-by-play, box score, shot charts, plus/minus, and game summary. Therefore, I do not have enough information to determine the keys to the Knicks and Pacers game.\n"
     ]
    }
   ],
   "source": [
    "user_query1 = \"What were the keys to the Knicks and Pacers Game?\"\n",
    "ask_question(user_query1, rag_chain)"
   ]
  },
  {
   "cell_type": "code",
   "execution_count": 50,
   "id": "5d856297-f630-43a3-82df-c6e43b4db866",
   "metadata": {},
   "outputs": [
    {
     "name": "stdout",
     "output_type": "stream",
     "text": [
      "\n",
      "❓ Querying: 'Who made the first basket of the game?'\n",
      "first={\n",
      "  context: VectorStoreRetriever(tags=['Chroma', 'GoogleGenerativeAIEmbeddings'], vectorstore=<langchain_community.vectorstores.chroma.Chroma object at 0x000002E3AE09C130>, search_kwargs={'k': 3})\n",
      "           | RunnableLambda(format_docs),\n",
      "  question: RunnablePassthrough()\n",
      "} middle=[PromptTemplate(input_variables=['context', 'question'], input_types={}, partial_variables={}, template=\"You are a sports data analyst assistant.\\nUse the following pieces of retrieved context to answer the question.\\nIf you don't know the answer, just say that you don't know.\\n\\nContext:\\n{context}\\n\\nQuestion: {question}\\n\\nAnswer:\"), ChatGoogleGenerativeAI(model='models/gemini-2.0-flash', google_api_key=SecretStr('**********'), temperature=0.0, client=<google.ai.generativelanguage_v1beta.services.generative_service.client.GenerativeServiceClient object at 0x000002E3AE0AACB0>, default_metadata=(), model_kwargs={})] last=StrOutputParser()\n",
      "🗣️ Answer: T. Haliburton\n"
     ]
    }
   ],
   "source": [
    "user_query1 = \"Who made the first basket of the game?\"\n",
    "ask_question(user_query1, rag_chain)"
   ]
  },
  {
   "cell_type": "code",
   "execution_count": 51,
   "id": "a94f4b42-4eb5-4fc5-b148-5e1e60f3f080",
   "metadata": {},
   "outputs": [
    {
     "name": "stdout",
     "output_type": "stream",
     "text": [
      "\n",
      "❓ Querying: 'What can you tell me about game be as descriptive as possible?'\n",
      "first={\n",
      "  context: VectorStoreRetriever(tags=['Chroma', 'GoogleGenerativeAIEmbeddings'], vectorstore=<langchain_community.vectorstores.chroma.Chroma object at 0x000002E3AE09C130>, search_kwargs={'k': 3})\n",
      "           | RunnableLambda(format_docs),\n",
      "  question: RunnablePassthrough()\n",
      "} middle=[PromptTemplate(input_variables=['context', 'question'], input_types={}, partial_variables={}, template=\"You are a sports data analyst assistant.\\nUse the following pieces of retrieved context to answer the question.\\nIf you don't know the answer, just say that you don't know.\\n\\nContext:\\n{context}\\n\\nQuestion: {question}\\n\\nAnswer:\"), ChatGoogleGenerativeAI(model='models/gemini-2.0-flash', google_api_key=SecretStr('**********'), temperature=0.0, client=<google.ai.generativelanguage_v1beta.services.generative_service.client.GenerativeServiceClient object at 0x000002E3AE0AACB0>, default_metadata=(), model_kwargs={})] last=StrOutputParser()\n",
      "🗣️ Answer: Here's what I can tell you about the game based on the provided context:\n",
      "\n",
      "**General Information:**\n",
      "\n",
      "*   The context includes box score, play-by-play, shot charts, and plus/minus information.\n",
      "*   The play-by-play data allows you to jump to specific quarters (1st, 2nd, 3rd, 4th).\n",
      "*   The play-by-play also indicates scoring plays, ties, and lead changes.\n",
      "\n",
      "**Specific Play-by-Play Examples:**\n",
      "\n",
      "*   **1st Quarter:**\n",
      "    *   At 6:11, the score was tied 51-51. Obi Toppin of New York missed a 3-point jump shot and Indiana got the defensive rebound.\n",
      "    *   At 5:42, Towns made free throw giving Indiana a 52-51 lead.\n",
      "    *   At 5:38, Wright misses 2-pt layup.\n",
      "*   **Later in the Game (No Quarter Specified):**\n",
      "    *   Haliburton made a 2-pt layup from 6 ft, increasing Indiana's lead to 115-102.\n",
      "    *   Anunoby missed two free throws, with Indiana getting the defensive rebound after the second miss.\n",
      "    *   Haliburton missed a 3-pt jump shot.\n",
      "\n",
      "**Other Inferences:**\n",
      "\n",
      "*   The game seems to be between the New York and Indiana, as those are the teams mentioned in the play-by-play.\n",
      "*   The score at one point was 115-102, suggesting it was a high-scoring game.\n",
      "*   Players mentioned include O. Toppin, J. Hart, K. Towns, M. Turner, D. Wright, T. Haliburton, O. Anunoby, and A. Nembhard.\n"
     ]
    }
   ],
   "source": [
    "user_query1 = 'What can you tell me about game be as descriptive as possible?'\n",
    "ask_question(user_query1, rag_chain)"
   ]
  },
  {
   "cell_type": "code",
   "execution_count": 28,
   "id": "49c62a1a-ea02-46b2-be03-b5b002b75444",
   "metadata": {},
   "outputs": [
    {
     "name": "stdout",
     "output_type": "stream",
     "text": [
      "\n",
      "❓ Querying: 'Can you write python code to parse the html file, turn the play by play into tabular data and thencreate a Game Flow visual of the Kicks and Pacers Game'\n",
      "🗣️ Answer: I am sorry, I am unable to provide code to parse the html.\n"
     ]
    }
   ],
   "source": [
    "user_query1 = \"Can you write python code to parse the html file, turn the play by play into tabular data and thencreate a Game Flow visual of the Kicks and Pacers Game\"\n",
    "ask_question(user_query1, rag_chain)"
   ]
  },
  {
   "cell_type": "code",
   "execution_count": 37,
   "id": "4b8347d0-11b2-450e-a564-5b5ac1466f18",
   "metadata": {},
   "outputs": [
    {
     "data": {
      "text/plain": [
       "[Document(metadata={'source': 'Source_Material/Example_game.html', 'title': '2025 NBA Eastern Conference Finals Game 4: Knicks vs Pacers, May 27, 2025 | Basketball-Reference.com'}, page_content=\"2025 NBA Eastern Conference Finals Game 4: Knicks vs Pacers, May 27, 2025 | Basketball-Reference.com\\n\\n\\n\\n\\n\\n\\n\\n\\n\\n\\n\\n\\n\\n\\n\\n\\n\\n\\n\\n\\n\\n\\n\\n\\n\\n\\n\\n\\n\\n\\n\\n\\n\\n\\n\\n\\n\\n\\n\\n\\n\\n\\n\\n\\n\\n\\n\\n\\n\\n\\n\\n\\n\\n\\n\\n\\n\\n\\n\\n\\n\\n\\n\\n\\n\\n\\n\\n\\n\\n\\n\\n\\n\\n\\n\\n\\n\\n\\n\\n\\n\\n\\n\\n\\n\\n\\n\\n\\n\\n\\n\\n Sports\\xa0Reference\\u202f®\\nBaseball\\nFootball (college)\\nBasketball (college)\\nHockey\\nFootball\\nBlog\\nStathead\\u202f®\\nImmaculate Grid\\u202f®\\nQuestions or Comments?\\nWelcome \\xa0·\\xa0Your Account\\nLogout\\nAd-Free Login\\nCreate Account\\n\\n\\nMENU\\n\\nPlayers\\nTeams\\nSeasons\\nLeaders\\nScores\\nWNBA\\nDraft\\nStathead\\nNewsletter\\nFull Site Menu Below\\n\\nYou are here: BBR Home Page  > Box Scores  > 2025 NBA Eastern Conference Finals Game 4: New York Knicks at Indiana Pacers Play-By-Play, May 27, 2025\\nWelcome \\xa0·\\xa0Your Account\\nLogout\\nAd-Free Login\\nCreate Account\\n\\n\\n\\n\\n\\n\\n\\n\\n\\n\\n\\n\\n\\n\\n\\n\\n\\nWe're hiring! Join our team as a Senior Test Engineer. Apply here.\\n\\n\\n\\n\\n\\n\\n\\n\\n\\n\\n\\n\\n\\nMay 27, 2025 NBA Scores & Boxes \\n2024-25 NBA Schedule & Results \\nNew York Knicks Schedule \\nIndiana Pacers Schedule \\nTeam and League Schedules\\n\\n\\nNew York Knicks Schedule\\nIndiana Pacers Schedule\\n2024-25 NBA Schedule & Results\\n\\n \\n\\n\\n\\n2025 NBA Eastern Conference Finals Game 4: New York Knicks at Indiana Pacers Play-By-Play, May 27, 2025\\n\\n\\n\\n\\n\\n\\n\\n\\n\\nvia Sports Logos.net\\nAbout logos\\n\\n\\nNew York Knicks\\n\\n\\n\\n121\\n1-3\\n\\nPrev Game\\n\\n\\n\\n\\n\\n\\nvia Sports Logos.net\\nAbout logos\\n\\n\\nIndiana Pacers\\n\\n\\n\\n130\\n3-1\\n\\nPrev Game\\n\\n\\n\\n8:00 PM, May 27, 2025Gainbridge Fieldhouse, Indianapolis, Indiana\\nLogos via Sports Logos.net\\n            / About logos\\n\\n\\n\\n\\n\\n\\n\\n\\n\\n\\n\\n\\n\\nBox Score\\n\\nPlay-By-Play\\n\\nShot Charts\\n\\nPlus/Minus\\n\\n\\n\\n\\n\\n\\nPOWERED BY\\n\\n\\n\\n\\n\\nLooking for something amazing? Uncover the story that stats can tell with Stathead.\\nSearch through thousands of plays from basketball history using the Event Finder.\\n\\nTry it & get your first month FREE\\n\\n\\n\\n\\n\\nGame Summary\\n\\n\\n\\n\\n\\n\\n\\n\\n\\nPlay-By-Play\\n\\n\\xa0\\xa0Jump to: 1st\\xa0|\\xa02nd\\xa0|\\xa03rd\\xa0|\\xa04th\\xa0\\xa0scoring play\\xa0tie\\xa0lead change\\n\\n\\n\\n\\n\\nPlay-By-Play Table\\n\\n1st Q\\n\\n\\nTime\\nNew York\\n\\nScore\\n\\nIndiana\\n\\n\\n12:00.0\\nJump ball: M. Robinson vs. M. Turner (J. Brunson gains possession)\\n\\n\\n11:36.0\\nO. Anunoby makes 2-pt jump shot from 16 ft+22-0\\xa0\\xa0\\n\\n\\n11:20.0\\n\\xa0\\xa02-2+2M. Turner makes 2-pt layup from 4 ft (assist by A. Nesmith)\\n\\n\\n11:20.0\\n\\xa0\\xa02-2\\xa0Shooting foul by M. Bridges (drawn by M. Turner)\\n\\n\\n11:20.0\\n\\xa0\\xa02-3+1M. Turner makes free throw 1 of 1\\n\\n\\n11:00.0\\nM. Bridges makes 3-pt jump shot from 25 ft (assist by J. Brunson)+35-3\\xa0\\xa0\\n\\n\\n10:41.0\\n\\xa0\\xa05-3\\xa0P. Siakam misses 2-pt jump shot from 6 ft\\n\\n\\n10:39.0\\nDefensive rebound by K. Towns\\xa05-3\\xa0\\xa0\\n\\n\\n10:34.0\\nM. Bridges misses 2-pt jump shot from 13 ft\\xa05-3\\xa0\\xa0\\n\\n\\n10:30.0\\n\\xa0\\xa05-3\\xa0Defensive rebound by T. Haliburton\\n\\n\\n10:26.0\\n\\xa0\\xa05-6+3A. Nesmith makes 3-pt jump shot from 24 ft (assist by T. Haliburton)\\n\\n\\n10:08.0\\nJ. Brunson makes 2-pt jump shot from 2 ft+27-6\\xa0\\xa0\\n\\n\\n10:01.0\\n\\xa0\\xa07-8+2P. Siakam makes 2-pt jump shot from 4 ft (assist by T. Haliburton)\\n\\n\\n9:42.0\\nJ. Brunson misses 3-pt jump shot from 28 ft\\xa07-8\\xa0\\xa0\\n\\n\\n9:40.0\\n\\xa0\\xa07-8\\xa0Defensive rebound by T. Haliburton\\n\\n\\n9:35.0\\n\\xa0\\xa07-8\\xa0M. Turner misses 3-pt jump shot from 27 ft\\n\\n\\n9:30.0\\nDefensive rebound by M. Bridges\\xa07-8\\xa0\\xa0\\n\\n\\n9:22.0\\nTurnover by O. Anunoby (step out of bounds)\\xa07-8\\xa0\\xa0\\n\\n\\n9:15.0\\n\\xa0\\xa07-11+3A. Nesmith makes 3-pt jump shot from 27 ft (assist by T. Haliburton)\\n\\n\\n8:53.0\\nK. Towns makes 2-pt layup from 5 ft (assist by M. Bridges)+29-11\\xa0\\xa0\\n\\n\\n8:46.0\\n\\xa0\\xa09-11\\xa0Shooting foul by K. Towns (drawn by P. Siakam)\\n\\n\\n8:46.0\\n\\xa0\\xa09-12+1P. Siakam makes free throw 1 of 2\\n\\n\\n8:46.0\\n\\xa0\\xa09-13+1P. Siakam makes free throw 2 of 2\\n\\n\\n8:32.0\\nM. Bridges misses 2-pt jump shot from 14 ft\\xa09-13\\xa0\\xa0\\n\\n\\n8:28.0\\n\\xa0\\xa09-13\\xa0Defensive rebound by T. Haliburton\\n\\n\\n8:22.0\\n\\xa0\\xa09-16+3T. Haliburton makes 3-pt jump shot from 26 ft\\n\\n\\n8:14.0\\nNew York full timeout\\xa09-16\\xa0\\xa0\\n\\n\\n8:06.0\\nM. Robinson makes 2-pt dunk from 3 ft (assist by J. Brunson)+211-16\\xa0\\xa0\\n\\n\\n7:48.0\\n\\xa0\\xa011-16\\xa0Personal foul by K. Towns (drawn by A. Nesmith)\\n\\n\\n7:48.0\\nJ. Hart enters the game for K. Towns\\xa011-16\\xa0\\xa0\\n\\n\\n7:48.0\\n\\xa0\\xa011-16\\xa0B. Sheppard enters the game for A. Nesmith\\n\\n\\n7:39.0\\n\\xa0\\xa011-16\\xa0A. Nembhard misses 2-pt layup from 3 ft\\n\\n\\n7:36.0\\nDefensive rebound by M. Robinson\\xa011-16\\xa0\\xa0\\n\\n\\n7:31.0\\nO. Anunoby makes 2-pt dunk from 1 ft (assist by J. Hart)+213-16\\xa0\\xa0\\n\\n\\n7:12.0\\n\\xa0\\xa013-18+2P. Siakam makes 2-pt hook shot from 6 ft (assist by A. Nembhard)\\n\\n\\n6:54.0\\nJ. Brunson makes 2-pt jump shot from 13 ft+215-18\\xa0\\xa0\\n\\n\\n6:42.0\\n\\xa0\\xa015-18\\xa0Turnover by A. Nembhard (lost ball; steal by M. Robinson)\\n\\n\\n6:33.0\\nM. Bridges makes 2-pt jump shot from 5 ft+217-18\\xa0\\xa0\\n\\n\\n6:33.0\\nShooting foul by T. Haliburton (drawn by M. Bridges)\\xa017-18\\xa0\\xa0\\n\\n\\n6:33.0\\n\\xa0\\xa017-18\\xa0O. Toppin enters the game for P. Siakam\\n\\n\\n6:33.0\\nM. Bridges makes free throw 1 of 1+118-18\\xa0\\xa0\\n\\n\\n6:22.0\\n\\xa0\\xa018-21+3T. Haliburton makes 3-pt jump shot from 30 ft\\n\\n\\n6:10.0\\nJ. Brunson makes 3-pt jump shot from 26 ft+321-21\\xa0\\xa0\\n\\n\\n5:47.0\\n\\xa0\\xa021-23+2T. Haliburton makes 2-pt jump shot from 17 ft (assist by O. Toppin)\\n\\n\\n5:28.0\\nJ. Brunson makes 3-pt jump shot from 25 ft+324-23\\xa0\\xa0\\n\\n\\n5:17.0\\n\\xa0\\xa024-23\\xa0Shooting foul by M. Robinson (drawn by T. Haliburton)\\n\\n\\n5:17.0\\n\\xa0\\xa024-24+1T. Haliburton makes free throw 1 of 2\\n\\n\\n5:17.0\\nM. McBride enters the game for O. Anunoby\\xa024-24\\xa0\\xa0\\n\\n\\n5:17.0\\n\\xa0\\xa024-24\\xa0T. McConnell enters the game for A. Nembhard\\n\\n\\n5:17.0\\n\\xa0\\xa024-24\\xa0A. Nesmith enters the game for B. Sheppard\\n\\n\\n5:17.0\\n\\xa0\\xa024-25+1T. Haliburton makes free throw 2 of 2\\n\\n\\n4:59.0\\nJ. Brunson misses 2-pt layup from 5 ft\\xa024-25\\xa0\\xa0\\n\\n\\n4:57.0\\n\\xa0\\xa024-25\\xa0Defensive rebound by T. Haliburton\\n\\n\\n4:51.0\\n\\xa0\\xa024-27+2A. Nesmith makes 2-pt dunk from 3 ft (assist by T. Haliburton)\\n\\n\\n4:44.0\\nM. Bridges misses 2-pt jump shot from 14 ft\\xa024-27\\xa0\\xa0\\n\\n\\n4:43.0\\n\\xa0\\xa024-27\\xa0Defensive rebound by Team\\n\\n\\n4:43.0\\nLoose ball foul by J. Hart (drawn by T. Haliburton)\\xa024-27\\xa0\\xa0\\n\\n\\n4:43.0\\n\\xa0\\xa024-28+1T. Haliburton makes free throw 1 of 2\\n\\n\\n4:43.0\\nP. Achiuwa enters the game for M. Robinson\\xa024-28\\xa0\\xa0\\n\\n\\n4:43.0\\n\\xa0\\xa024-28\\xa0P. Siakam enters the game for M. Turner\\n\\n\\n4:43.0\\n\\xa0\\xa024-29+1T. Haliburton makes free throw 2 of 2\\n\\n\\n4:29.0\\nJ. Hart makes 3-pt jump shot from 27 ft (assist by J. Brunson)+327-29\\xa0\\xa0\\n\\n\\n4:14.0\\n\\xa0\\xa027-29\\xa0P. Siakam misses 2-pt jump shot from 8 ft\\n\\n\\n4:13.0\\nDefensive rebound by J. Hart\\xa027-29\\xa0\\xa0\\n\\n\\n4:08.0\\nTurnover by J. Hart (bad pass; steal by O. Toppin)\\xa027-29\\xa0\\xa0\\n\\n\\n4:04.0\\n\\xa0\\xa027-31+2O. Toppin makes 2-pt dunk from 2 ft (assist by T. Haliburton)\\n\\n\\n3:43.0\\nJ. Brunson makes 2-pt jump shot from 10 ft+229-31\\xa0\\xa0\\n\\n\\n3:43.0\\nShooting foul by O. Toppin (drawn by J. Brunson)\\xa029-31\\xa0\\xa0\\n\\n\\n3:43.0\\n\\xa0\\xa029-31\\xa0Indiana full timeout\\n\\n\\n3:43.0\\n\\xa0\\xa029-31\\xa0Instant Replay (Challenge: Stands)\\n\\n\\n3:43.0\\nJ. Brunson makes free throw 1 of 1+130-31\\xa0\\xa0\\n\\n\\n3:24.0\\n\\xa0\\xa030-31\\xa0T. Haliburton misses 2-pt jump shot from 11 ft\\n\\n\\n3:20.0\\nDefensive rebound by P. Achiuwa\\xa030-31\\xa0\\xa0\\n\\n\\n3:11.0\\nJ. Brunson misses 3-pt jump shot from 27 ft\\xa030-31\\xa0\\xa0\\n\\n\\n3:09.0\\n\\xa0\\xa030-31\\xa0Defensive rebound by Team\\n\\n\\n3:03.0\\n\\xa0\\xa030-34+3T. Haliburton makes 3-pt jump shot from 28 ft\\n\\n\\n2:38.0\\nM. Bridges misses 2-pt layup from 3 ft\\xa030-34\\xa0\\xa0\\n\\n\\n2:36.0\\n\\xa0\\xa030-34\\xa0Defensive rebound by O. Toppin\\n\\n\\n2:32.0\\n\\xa0\\xa030-37+3P. Siakam makes 3-pt jump shot from 23 ft (assist by T. Haliburton)\\n\\n\\n2:19.0\\nShooting foul by P. Siakam (drawn by J. Hart)\\xa030-37\\xa0\\xa0\\n\\n\\n2:19.0\\nJ. Hart makes free throw 1 of 2+131-37\\xa0\\xa0\\n\\n\\n2:19.0\\nO. Anunoby enters the game for P. Achiuwa\\xa031-37\\xa0\\xa0\\n\\n\\n2:19.0\\nM. Robinson enters the game for M. Bridges\\xa031-37\\xa0\\xa0\\n\\n\\n2:19.0\\n\\xa0\\xa031-37\\xa0T. Bradley enters the game for O. Toppin\\n\\n\\n2:19.0\\nJ. Hart makes free throw 2 of 2+132-37\\xa0\\xa0\\n\\n\\n2:06.0\\n\\xa0\\xa032-37\\xa0A. Nesmith misses 3-pt jump shot from 28 ft\\n\\n\\n2:02.0\\nDefensive rebound by M. McBride\\xa032-37\\xa0\\xa0\\n\\n\\n1:43.0\\nO. Anunoby misses 3-pt jump shot from 27 ft\\xa032-37\\xa0\\xa0\\n\\n\\n1:39.0\\n\\xa0\\xa032-37\\xa0Defensive rebound by A. Nesmith\\n\\n\\n1:36.0\\n\\xa0\\xa032-37\\xa0Turnover by A. Nesmith (bad pass; steal by J. Brunson)\\n\\n\\n1:31.0\\nO. Anunoby misses 3-pt jump shot from 25 ft\\xa032-37\\xa0\\xa0\\n\\n\\n1:28.0\\nOffensive rebound by J. Hart\\xa032-37\\xa0\\xa0\\n\\n\\n1:26.0\\nJ. Brunson misses 3-pt jump shot from 23 ft\\xa032-37\\xa0\\xa0\\n\\n\\n1:22.0\\n\\xa0\\xa032-37\\xa0Defensive rebound by T. Haliburton\\n\\n\\n1:17.0\\n\\xa0\\xa032-39+2P. Siakam makes 2-pt layup from 3 ft (assist by T. McConnell)\\n\\n\\n1:04.0\\nTurnover by J. Brunson (back court)\\xa032-39\\xa0\\xa0\\n\\n\\n1:04.0\\n\\xa0\\xa032-39\\xa0B. Mathurin enters the game for T. Haliburton\\n\\n\\n1:00.0\\n\\xa0\\xa032-41+2B. Mathurin makes 2-pt jump shot from 21 ft\\n\\n\\n0:48.0\\nPersonal foul by A. Nesmith (drawn by J. Brunson)\\xa032-41\\xa0\\xa0\\n\\n\\n0:48.0\\n\\xa0\\xa032-41\\xa0B. Sheppard enters the game for A. Nesmith\\n\\n\\n0:44.0\\nM. McBride makes 3-pt jump shot from 24 ft+335-41\\xa0\\xa0\\n\\n\\n0:30.0\\n\\xa0\\xa035-43+2B. Mathurin makes 2-pt layup from 3 ft (assist by T. McConnell)\\n\\n\\n0:12.0\\nTurnover by J. Hart (bad pass; steal by P. Siakam)\\xa035-43\\xa0\\xa0\\n\\n\\n0:00.0\\n\\xa0\\xa035-43\\xa0P. Siakam misses 2-pt jump shot from 19 ft\\n\\n\\n0:00.0\\n\\xa0\\xa035-43\\xa0Offensive rebound by Team\\n\\n\\n0:00.0\\nEnd of 1st quarter\\n\\n\\n2nd Q\\n\\n\\nTime\\nNew York\\n\\nScore\\n\\nIndiana\\n\\n\\n12:00.0\\nStart of 2nd quarter\\n\\n\\n11:46.0\\n\\xa0\\xa035-43\\xa0B. Mathurin misses 3-pt jump shot from 26 ft\\n\\n\\n11:42.0\\nDefensive rebound by Team\\xa035-43\\xa0\\xa0\\n\\n\\n11:22.0\\nM. McBride misses 3-pt jump shot from 22 ft\\xa035-43\\xa0\\xa0\\n\\n\\n11:19.0\\n\\xa0\\xa035-43\\xa0Defensive rebound by B. Mathurin\\n\\n\\n11:06.0\\n\\xa0\\xa035-45+2B. Mathurin makes 2-pt jump shot from 13 ft (assist by P. Siakam)\\n\\n\\n10:49.0\\nPersonal foul by T. Bradley (drawn by K. Towns)\\xa035-45\\xa0\\xa0\\n\\n\\n10:44.0\\nTurnover by K. Towns (lost ball; steal by T. McConnell)\\xa035-45\\xa0\\xa0\\n\\n\\n10:39.0\\n\\xa0\\xa035-45\\xa0B. Mathurin misses 2-pt layup from 3 ft\\n\\n\\n10:34.0\\nDefensive rebound by M. McBride\\xa035-45\\xa0\\xa0\\n\\n\\n10:29.0\\nK. Towns makes 3-pt jump shot from 27 ft (assist by D. Wright)+338-45\\xa0\\xa0\\n\\n\\n10:18.0\\n\\xa0\\xa038-47+2T. McConnell makes 2-pt layup from 4 ft\\n\\n\\n10:13.0\\nShooting foul by P. Siakam (drawn by O. Anunoby)\\xa038-47\\xa0\\xa0\\n\\n\\n10:13.0\\nO. Anunoby makes free throw 1 of 2+139-47\\xa0\\xa0\\n\\n\\n10:13.0\\nL. Shamet enters the game for M. McBride\\xa039-47\\xa0\\xa0\\n\\n\\n10:13.0\\n\\xa0\\xa039-47\\xa0O. Toppin enters the game for T. Bradley\\n\\n\\n10:13.0\\n\\xa0\\xa039-47\\xa0M. Turner enters the game for P. Siakam\\n\\n\\n10:13.0\\nO. Anunoby makes free throw 2 of 2+140-47\\xa0\\xa0\\n\\n\\n10:04.0\\n\\xa0\\xa040-47\\xa0Offensive foul by M. Turner (drawn by D. Wright)\\n\\n\\n10:04.0\\n\\xa0\\xa040-47\\xa0Turnover by M. Turner (offensive foul)\\n\\n\\n9:49.0\\nO. Anunoby makes 2-pt jump shot from 17 ft (assist by L. Shamet)+242-47\\xa0\\xa0\\n\\n\\n9:29.0\\n\\xa0\\xa042-49+2B. Sheppard makes 2-pt layup from 2 ft (assist by M. Turner)\\n\\n\\n9:23.0\\nNew York full timeout\\xa042-49\\xa0\\xa0\\n\\n\\n9:06.0\\nK. Towns makes 2-pt layup from 2 ft+244-49\\xa0\\xa0\\n\\n\\n8:57.0\\n\\xa0\\xa044-49\\xa0Personal foul by L. Shamet (drawn by B. Sheppard)\\n\\n\\n8:48.0\\n\\xa0\\xa044-49\\xa0M. Turner misses 2-pt jump shot from 19 ft\\n\\n\\n8:44.0\\nDefensive rebound by J. Hart\\xa044-49\\xa0\\xa0\\n\\n\\n8:36.0\\nShooting foul by M. Turner (drawn by K. Towns)\\xa044-49\\xa0\\xa0\\n\\n\\n8:36.0\\nK. Towns makes free throw 1 of 2+145-49\\xa0\\xa0\\n\\n\\n8:36.0\\n\\xa0\\xa045-49\\xa0P. Siakam enters the game for M. Turner\\n\\n\\n8:36.0\\nK. Towns makes free throw 2 of 2+146-49\\xa0\\xa0\\n\\n\\n8:31.0\\n\\xa0\\xa046-49\\xa0T. McConnell misses 2-pt layup from 6 ft (block by D. Wright)\\n\\n\\n8:28.0\\nDefensive rebound by O. Anunoby\\xa046-49\\xa0\\xa0\\n\\n\\n8:26.0\\nTurnover by D. Wright (dbl dribble)\\xa046-49\\xa0\\xa0\\n\\n\\n8:10.0\\n\\xa0\\xa046-49\\xa0Shooting foul by O. Anunoby (drawn by B. Mathurin)\\n\\n\\n8:10.0\\n\\xa0\\xa046-50+1B. Mathurin makes free throw 1 of 2\\n\\n\\n8:10.0\\n\\xa0\\xa046-51+1B. Mathurin makes free throw 2 of 2\\n\\n\\n7:48.0\\nD. Wright makes 3-pt jump shot from 24 ft (assist by O. Anunoby)+349-51\\xa0\\xa0\\n\\n\\n7:31.0\\n\\xa0\\xa049-51\\xa0Turnover by P. Siakam (bad pass; steal by O. Anunoby)\\n\\n\\n7:19.0\\nO. Anunoby makes 2-pt layup from 3 ft+251-51\\xa0\\xa0\\n\\n\\n7:19.0\\n\\xa0\\xa051-51\\xa0Indiana full timeout\\n\\n\\n7:19.0\\n\\xa0\\xa051-51\\xa0T. Haliburton enters the game for B. Mathurin\\n\\n\\n7:19.0\\n\\xa0\\xa051-51\\xa0A. Nembhard enters the game for T. McConnell\\n\\n\\n7:19.0\\n\\xa0\\xa051-51\\xa0A. Nesmith enters the game for B. Sheppard\\n\\n\\n7:19.0\\n\\xa0\\xa051-51\\xa0M. Turner enters the game for P. Siakam\\n\\n\\n6:58.0\\n\\xa0\\xa051-51\\xa0A. Nembhard misses 2-pt jump shot from 17 ft\\n\\n\\n6:54.0\\nDefensive rebound by K. Towns\\xa051-51\\xa0\\xa0\\n\\n\\n6:45.0\\nTurnover by J. Hart (bad pass; steal by A. Nesmith)\\xa051-51\\xa0\\xa0\\n\\n\\n6:36.0\\n\\xa0\\xa051-51\\xa0A. Nembhard misses 2-pt layup from 5 ft (block by O. Anunoby)\\n\\n\\n6:31.0\\nDefensive rebound by K. Towns\\xa051-51\\xa0\\xa0\\n\\n\\n6:14.0\\nJ. Hart misses 3-pt jump shot from 27 ft\\xa051-51\\xa0\\xa0\\n\\n\\n6:11.0\\n\\xa0\\xa051-51\\xa0Defensive rebound by O. Toppin\\n\\n\\n6:06.0\\n\\xa0\\xa051-51\\xa0O. Toppin misses 3-pt jump shot from 25 ft\\n\\n\\n6:03.0\\nDefensive rebound by J. Hart\\xa051-51\\xa0\\xa0\\n\\n\\n5:42.0\\nShooting foul by O. Toppin (drawn by K. Towns)\\xa051-51\\xa0\\xa0\\n\\n\\n5:42.0\\nK. Towns misses free throw 1 of 2\\xa051-51\\xa0\\xa0\\n\\n\\n5:42.0\\nOffensive rebound by Team\\xa051-51\\xa0\\xa0\\n\\n\\n5:42.0\\nK. Towns makes free throw 2 of 2+152-51\\xa0\\xa0\\n\\n\\n5:40.0\\n\\xa0\\xa052-51\\xa0Turnover by M. Turner (bad pass; steal by D. Wright)\\n\\n\\n5:38.0\\nD. Wright misses 2-pt layup from 3 ft\\xa052-51\\xa0\\xa0\\n\\n\\n5:36.0\\n\\xa0\\xa052-51\\xa0Defensive rebound by T. Haliburton\\n\\n\\n5:33.0\\n\\xa0\\xa052-54+3T. Haliburton makes 3-pt jump shot from 29 ft\\n\\n\\n5:15.0\\nO. Anunoby misses 3-pt jump shot from 24 ft\\xa052-54\\xa0\\xa0\\n\\n\\n5:13.0\\n\\xa0\\xa052-54\\xa0Defensive rebound by T. Haliburton\\n\\n\\n5:02.0\\n\\xa0\\xa052-54\\xa0T. Haliburton misses 3-pt jump shot from 27 ft\\n\\n\\n4:58.0\\nDefensive rebound by J. Hart\\xa052-54\\xa0\\xa0\\n\\n\\n4:53.0\\nPersonal foul by A. Nembhard (drawn by K. Towns)\\xa052-54\\xa0\\xa0\\n\\n\\n4:53.0\\nK. Towns makes free throw 1 of 2+153-54\\xa0\\xa0\\n\\n\\n4:53.0\\nM. Bridges enters the game for L. Shamet\\xa053-54\\xa0\\xa0\\n\\n\\n4:53.0\\nJ. Brunson enters the game for D. Wright\\xa053-54\\xa0\\xa0\\n\\n\\n4:53.0\\n\\xa0\\xa053-54\\xa0P. Siakam enters the game for O. Toppin\\n\\n\\n4:53.0\\nK. Towns makes free throw 2 of 2+154-54\\xa0\\xa0\\n\\n\\n4:43.0\\n\\xa0\\xa054-56+2T. Haliburton makes 2-pt layup from 3 ft\\n\\n\\n4:20.0\\nK. Towns misses 2-pt layup from 7 ft (block by M. Turner)\\xa054-56\\xa0\\xa0\\n\\n\\n4:17.0\\nOffensive rebound by K. Towns\\xa054-56\\xa0\\xa0\\n\\n\\n4:17.0\\nK. Towns makes 2-pt layup from 2 ft+256-56\\xa0\\xa0\\n\\n\\n4:04.0\\n\\xa0\\xa056-56\\xa0T. Haliburton misses 2-pt layup from 4 ft\\n\\n\\n4:02.0\\nDefensive rebound by J. Hart\\xa056-56\\xa0\\xa0\\n\\n\\n3:57.0\\nJ. Brunson misses 2-pt layup from 3 ft\\xa056-56\\xa0\\xa0\\n\\n\\n3:55.0\\n\\xa0\\xa056-56\\xa0Defensive rebound by A. Nembhard\\n\\n\\n3:48.0\\n\\xa0\\xa056-56\\xa0Personal foul by O. Anunoby (drawn by M. Turner)\\n\\n\\n3:39.0\\n\\xa0\\xa056-58+2M. Turner makes 2-pt layup from 2 ft\\n\\n\\n3:25.0\\nTurnover by J. Hart (bad pass; steal by A. Nembhard)\\xa056-58\\xa0\\xa0\\n\\n\\n3:18.0\\n\\xa0\\xa056-60+2P. Siakam makes 2-pt layup from 3 ft (assist by T. Haliburton)\\n\\n\\n3:01.0\\nTurnover by M. Bridges (lost ball; steal by A. Nesmith)\\xa056-60\\xa0\\xa0\\n\\n\\n2:57.0\\n\\xa0\\xa056-60\\xa0T. Haliburton misses 3-pt jump shot from 30 ft\\n\\n\\n2:52.0\\nDefensive rebound by M. Bridges\\xa056-60\\xa0\\xa0\\n\\n\\n2:47.0\\nJ. Brunson misses 2-pt layup from 3 ft\\xa056-60\\xa0\\xa0\\n\\n\\n2:44.0\\nOffensive rebound by J. Hart\\xa056-60\\xa0\\xa0\\n\\n\\n2:44.0\\nJ. Hart makes 2-pt layup at rim+258-60\\xa0\\xa0\\n\\n\\n2:22.0\\n\\xa0\\xa058-60\\xa0T. Haliburton misses 3-pt jump shot from 27 ft\\n\\n\\n2:19.0\\nDefensive rebound by O. Anunoby\\xa058-60\\xa0\\xa0\\n\\n\\n2:12.0\\nO. Anunoby makes 2-pt layup from 5 ft (assist by J. Brunson)+260-60\\xa0\\xa0\\n\\n\\n2:12.0\\nShooting foul by A. Nembhard (drawn by O. Anunoby)\\xa060-60\\xa0\\xa0\\n\\n\\n2:12.0\\nM. Robinson enters the game for K. Towns\\xa060-60\\xa0\\xa0\\n\\n\\n2:12.0\\n\\xa0\\xa060-60\\xa0T. Bradley enters the game for M. Turner\\n\\n\\n2:12.0\\nO. Anunoby makes free throw 1 of 1+161-60\\xa0\\xa0\\n\\n\\n2:03.0\\n\\xa0\\xa061-63+3A. Nembhard makes 3-pt jump shot from 26 ft (assist by T. Haliburton)\\n\\n\\n1:45.0\\nJ. Brunson makes 2-pt layup from 6 ft+263-63\\xa0\\xa0\\n\\n\\n1:45.0\\nShooting foul by A. Nesmith (drawn by J. Brunson)\\xa063-63\\xa0\\xa0\\n\\n\\n1:45.0\\nJ. Brunson makes free throw 1 of 1+164-63\\xa0\\xa0\\n\\n\\n1:34.0\\n\\xa0\\xa064-63\\xa0T. Haliburton misses 2-pt jump shot from 21 ft\\n\\n\\n1:32.0\\nDefensive rebound by J. Brunson\\xa064-63\\xa0\\xa0\\n\\n\\n1:26.0\\nM. Bridges misses 2-pt jump shot from 11 ft\\xa064-63\\xa0\\xa0\\n\\n\\n1:23.0\\n\\xa0\\xa064-63\\xa0Defensive rebound by P. Siakam\\n\\n\\n1:11.0\\n\\xa0\\xa064-63\\xa0Shooting foul by M. Robinson (drawn by A. Nesmith)\\n\\n\\n1:11.0\\n\\xa0\\xa064-64+1A. Nesmith makes free throw 1 of 2\\n\\n\\n1:11.0\\n\\xa0\\xa064-65+1A. Nesmith makes free throw 2 of 2\\n\\n\\n1:02.0\\nO. Anunoby misses 3-pt jump shot from 23 ft\\xa064-65\\xa0\\xa0\\n\\n\\n0:59.0\\n\\xa0\\xa064-65\\xa0Defensive rebound by A. Nesmith\\n\\n\\n0:45.0\\n\\xa0\\xa064-67+2A. Nesmith makes 2-pt jump shot from 8 ft (assist by T. Haliburton)\\n\\n\\n0:32.0\\nJ. Brunson misses 3-pt jump shot from 25 ft\\xa064-67\\xa0\\xa0\\n\\n\\n0:28.0\\n\\xa0\\xa064-67\\xa0Defensive rebound by T. Haliburton\\n\\n\\n0:24.0\\n\\xa0\\xa064-67\\xa0A. Nesmith misses 3-pt jump shot from 25 ft\\n\\n\\n0:20.0\\n\\xa0\\xa064-67\\xa0Offensive rebound by P. Siakam\\n\\n\\n0:17.0\\n\\xa0\\xa064-69+2T. Bradley makes 2-pt layup from 2 ft (assist by T. Haliburton)\\n\\n\\n0:00.0\\nEnd of 2nd quarter\\n\\n\\n3rd Q\\n\\n\\nTime\\nNew York\\n\\nScore\\n\\nIndiana\\n\\n\\n12:00.0\\nStart of 3rd quarter\\n\\n\\n11:46.0\\n\\xa0\\xa064-71+2P. Siakam makes 2-pt jump shot from 16 ft (assist by A. Nembhard)\\n\\n\\n11:26.0\\nTurnover by J. Brunson (bad pass; steal by T. Haliburton)\\xa064-71\\xa0\\xa0\\n\\n\\n11:23.0\\n\\xa0\\xa064-73+2P. Siakam makes 2-pt dunk from 2 ft (assist by T. Haliburton)\\n\\n\\n11:03.0\\nTurnover by M. Bridges (bad pass; steal by T. Haliburton)\\xa064-73\\xa0\\xa0\\n\\n\\n10:58.0\\n\\xa0\\xa064-73\\xa0A. Nembhard misses 2-pt layup from 4 ft\\n\\n\\n10:55.0\\n\\xa0\\xa064-73\\xa0Offensive rebound by Team\\n\\n\\n10:49.0\\n\\xa0\\xa064-73\\xa0P. Siakam misses 3-pt jump shot from 26 ft\\n\\n\\n10:45.0\\nDefensive rebound by M. Robinson\\xa064-73\\xa0\\xa0\\n\\n\\n10:29.0\\nK. Towns misses 2-pt layup from 3 ft\\xa064-73\\xa0\\xa0\\n\\n\\n10:27.0\\n\\xa0\\xa064-73\\xa0Defensive rebound by M. Turner\\n\\n\\n10:23.0\\n\\xa0\\xa064-73\\xa0A. Nembhard misses 3-pt jump shot from 28 ft\\n\\n\\n10:20.0\\nDefensive rebound by K. Towns\\xa064-73\\xa0\\xa0\\n\\n\\n10:11.0\\nM. Bridges misses 2-pt jump shot from 11 ft\\xa064-73\\xa0\\xa0\\n\\n\\n10:07.0\\nOffensive rebound by M. Robinson\\xa064-73\\xa0\\xa0\\n\\n\\n10:07.0\\nM. Robinson misses 2-pt layup at rim\\xa064-73\\xa0\\xa0\\n\\n\\n10:07.0\\n\\xa0\\xa064-73\\xa0Defensive rebound by P. Siakam\\n\\n\\n9:57.0\\n\\xa0\\xa064-73\\xa0T. Haliburton misses 3-pt jump shot from 25 ft\\n\\n\\n9:53.0\\nDefensive rebound by J. Brunson\\xa064-73\\xa0\\xa0\\n\\n\\n9:40.0\\nJ. Brunson misses 2-pt jump shot from 10 ft\\xa064-73\\xa0\\xa0\\n\\n\\n9:37.0\\n\\xa0\\xa064-73\\xa0Defensive rebound by A. Nembhard\\n\\n\\n9:27.0\\n\\xa0\\xa064-76+3M. Turner makes 3-pt jump shot from 24 ft (assist by P. Siakam)\\n\\n\\n9:26.0\\nNew York full timeout\\xa064-76\\xa0\\xa0\\n\\n\\n9:09.0\\nM. Bridges makes 2-pt layup from 3 ft (assist by M. Robinson)+266-76\\xa0\\xa0\\n\\n\\n9:01.0\\n\\xa0\\xa066-76\\xa0Shooting foul by M. Robinson (drawn by A. Nesmith)\\n\\n\\n9:01.0\\n\\xa0\\xa066-77+1A. Nesmith makes free throw 1 of 2\\n\\n\\n9:01.0\\n\\xa0\\xa066-78+1A. Nesmith makes free throw 2 of 2\\n\\n\\n8:42.0\\nK. Towns makes 2-pt dunk from 2 ft (assist by M. Bridges)+268-78\\xa0\\xa0\\n\\n\\n8:27.0\\n\\xa0\\xa068-78\\xa0Turnover by M. Turner (step out of bounds)\\n\\n\\n8:10.0\\nO. Anunoby misses 3-pt jump shot from 27 ft\\xa068-78\\xa0\\xa0\\n\\n\\n8:06.0\\nOffensive rebound by M. Robinson\\xa068-78\\xa0\\xa0\\n\\n\\n8:06.0\\nShooting foul by M. Turner (drawn by M. Robinson)\\xa068-78\\xa0\\xa0\\n\\n\\n8:06.0\\nM. Robinson makes free throw 1 of 2+169-78\\xa0\\xa0\\n\\n\\n8:06.0\\n\\xa0\\xa069-78\\xa0T. Bradley enters the game for M. Turner\\n\\n\\n8:06.0\\nM. Robinson makes free throw 2 of 2+170-78\\xa0\\xa0\\n\\n\\n7:56.0\\n\\xa0\\xa070-80+2A. Nesmith makes 2-pt dunk from 3 ft (assist by T. Haliburton)\\n\\n\\n7:39.0\\nO. Anunoby misses 2-pt jump shot from 7 ft\\xa070-80\\xa0\\xa0\\n\\n\\n7:38.0\\nOffensive rebound by M. Robinson\\xa070-80\\xa0\\xa0\\n\\n\\n7:29.0\\nK. Towns misses 2-pt hook shot from 10 ft\\xa070-80\\xa0\\xa0\\n\\n\\n7:25.0\\nOffensive rebound by M. Robinson\\xa070-80\\xa0\\xa0\\n\\n\\n7:24.0\\nM. Robinson makes 2-pt dunk from 3 ft+272-80\\xa0\\xa0\\n\\n\\n7:12.0\\n\\xa0\\xa072-82+2P. Siakam makes 2-pt jump shot from 11 ft\\n\\n\\n6:48.0\\nK. Towns misses 2-pt jump shot from 6 ft\\xa072-82\\xa0\\xa0\\n\\n\\n6:46.0\\nOffensive rebound by M. Robinson\\xa072-82\\xa0\\xa0\\n\\n\\n6:44.0\\nK. Towns misses 3-pt jump shot from 26 ft\\xa072-82\\xa0\\xa0\\n\\n\\n6:42.0\\n\\xa0\\xa072-82\\xa0Defensive rebound by Team\\n\\n\\n6:36.0\\n\\xa0\\xa072-82\\xa0P. Siakam misses 2-pt jump shot from 3 ft\\n\\n\\n6:30.0\\n\\xa0\\xa072-82\\xa0Offensive rebound by P. Siakam\\n\\n\\n6:29.0\\n\\xa0\\xa072-82\\xa0T. Haliburton misses 3-pt jump shot from 26 ft\\n\\n\\n6:25.0\\nDefensive rebound by K. Towns\\xa072-82\\xa0\\xa0\\n\\n\\n6:14.0\\nK. Towns makes 2-pt jump shot from 7 ft+274-82\\xa0\\xa0\\n\\n\\n6:14.0\\nShooting foul by A. Nesmith (drawn by K. Towns)\\xa074-82\\xa0\\xa0\\n\\n\\n6:14.0\\n\\xa0\\xa074-82\\xa0B. Sheppard enters the game for A. Nesmith\\n\\n\\n6:14.0\\nK. Towns makes free throw 1 of 1+175-82\\xa0\\xa0\\n\\n\\n6:01.0\\n\\xa0\\xa075-82\\xa0P. Siakam misses 2-pt jump shot from 19 ft\\n\\n\\n5:58.0\\n\\xa0\\xa075-82\\xa0Offensive rebound by T. Bradley\\n\\n\\n5:55.0\\n\\xa0\\xa075-82\\xa0Shooting foul by M. Robinson (drawn by T. Haliburton)\\n\\n\\n5:55.0\\n\\xa0\\xa075-83+1T. Haliburton makes free throw 1 of 2\\n\\n\\n5:55.0\\nJ. Hart enters the game for M. Robinson\\xa075-83\\xa0\\xa0\\n\\n\\n5:55.0\\n\\xa0\\xa075-83\\xa0O. Toppin enters the game for P. Siakam\\n\\n\\n5:55.0\\n\\xa0\\xa075-83\\xa0T. Haliburton misses free throw 2 of 2\\n\\n\\n5:54.0\\nDefensive rebound by K. Towns\\xa075-83\\xa0\\xa0\\n\\n\\n5:40.0\\nShooting foul by B. Sheppard (drawn by J. Brunson)\\xa075-83\\xa0\\xa0\\n\\n\\n5:40.0\\nJ. Brunson makes free throw 1 of 2+176-83\\xa0\\xa0\\n\\n\\n5:40.0\\n\\xa0\\xa076-83\\xa0M. Turner enters the game for T. Bradley\\n\\n\\n5:40.0\\nJ. Brunson makes free throw 2 of 2+177-83\\xa0\\xa0\\n\\n\\n5:31.0\\n\\xa0\\xa077-85+2M. Turner makes 2-pt layup from 2 ft (assist by T. Haliburton)\\n\\n\\n5:19.0\\nShooting foul by T. Haliburton (drawn by J. Brunson)\\xa077-85\\xa0\\xa0\\n\\n\\n5:19.0\\nNew York full timeout\\xa077-85\\xa0\\xa0\\n\\n\\n5:19.0\\nInstant Replay (Challenge: Ruling Stands)\\xa077-85\\xa0\\xa0\\n\\n\\n5:19.0\\nM. McBride enters the game for O. Anunoby\\xa077-85\\xa0\\xa0\\n\\n\\n5:19.0\\nJ. Brunson makes free throw 1 of 2+178-85\\xa0\\xa0\\n\\n\\n5:19.0\\nJ. Brunson misses free throw 2 of 2\\xa078-85\\xa0\\xa0\\n\\n\\n5:17.0\\n\\xa0\\xa078-85\\xa0Defensive rebound by B. Sheppard\\n\\n\\n5:08.0\\n\\xa0\\xa078-85\\xa0B. Sheppard misses 3-pt jump shot from 27 ft\\n\\n\\n5:04.0\\nDefensive rebound by M. Bridges\\xa078-85\\xa0\\xa0\\n\\n\\n4:57.0\\nJ. Brunson makes 2-pt jump shot from 10 ft+280-85\\xa0\\xa0\\n\\n\\n4:42.0\\n\\xa0\\xa080-87+2T. Haliburton makes 2-pt jump shot from 17 ft\\n\\n\\n4:30.0\\nPersonal foul by A. Nembhard (drawn by J. Brunson)\\xa080-87\\xa0\\xa0\\n\\n\\n4:30.0\\nJ. Brunson makes free throw 1 of 2+181-87\\xa0\\xa0\\n\\n\\n4:30.0\\n\\xa0\\xa081-87\\xa0T. McConnell enters the game for A. Nembhard\\n\\n\\n4:30.0\\n\\xa0\\xa081-87\\xa0A. Nesmith enters the game for B. Sheppard\\n\\n\\n4:30.0\\nJ. Brunson makes free throw 2 of 2+182-87\\xa0\\xa0\\n\\n\\n4:08.0\\n\\xa0\\xa082-89+2M. Turner makes 2-pt layup from 4 ft\\n\\n\\n3:59.0\\nShooting foul by T. Haliburton (drawn by J. Brunson)\\xa082-89\\xa0\\xa0\\n\\n\\n3:59.0\\nJ. Brunson makes free throw 1 of 2+183-89\\xa0\\xa0\\n\\n\\n3:59.0\\nJ. Brunson makes free throw 2 of 2+184-89\\xa0\\xa0\\n\\n\\n3:41.0\\n\\xa0\\xa084-89\\xa0T. Haliburton misses 2-pt jump shot from 20 ft\\n\\n\\n3:38.0\\nDefensive rebound by K. Towns\\xa084-89\\xa0\\xa0\\n\\n\\n3:25.0\\nTurnover by J. Hart (step out of bounds)\\xa084-89\\xa0\\xa0\\n\\n\\n3:15.0\\n\\xa0\\xa084-91+2T. Haliburton makes 2-pt layup from 2 ft\\n\\n\\n3:04.0\\nTurnover by J. Brunson (lost ball; steal by T. Haliburton)\\xa084-91\\xa0\\xa0\\n\\n\\n3:04.0\\n\\xa0\\xa084-91\\xa0Indiana full timeout\\n\\n\\n2:57.0\\n\\xa0\\xa084-93+2T. McConnell makes 2-pt jump shot from 20 ft\\n\\n\\n2:27.0\\nShooting foul by O. Toppin (drawn by K. Towns)\\xa084-93\\xa0\\xa0\\n\\n\\n2:27.0\\nInstant Replay (Request: Stands)\\xa084-93\\xa0\\xa0\\n\\n\\n2:27.0\\nK. Towns misses free throw 1 of 2\\xa084-93\\xa0\\xa0\\n\\n\\n2:27.0\\nOffensive rebound by Team\\xa084-93\\xa0\\xa0\\n\\n\\n2:27.0\\nK. Towns makes free throw 2 of 2+185-93\\xa0\\xa0\\n\\n\\n2:11.0\\n\\xa0\\xa085-93\\xa0A. Nesmith misses 3-pt jump shot from 26 ft\\n\\n\\n2:06.0\\nDefensive rebound by J. Hart\\xa085-93\\xa0\\xa0\\n\\n\\n1:57.0\\nK. Towns makes 2-pt layup from 4 ft+287-93\\xa0\\xa0\\n\\n\\n1:47.0\\n\\xa0\\xa087-93\\xa0Turnover by A. Nesmith (bad pass; steal by J. Brunson)\\n\\n\\n1:36.0\\nTurnover by M. McBride (bad pass; steal by O. Toppin)\\xa087-93\\xa0\\xa0\\n\\n\\n1:25.0\\n\\xa0\\xa087-93\\xa0M. Turner misses 3-pt jump shot from 25 ft\\n\\n\\n1:24.0\\n\\xa0\\xa087-93\\xa0Offensive rebound by Team\\n\\n\\n1:24.0\\nLoose ball foul by M. Bridges (drawn by O. Toppin)\\xa087-93\\xa0\\xa0\\n\\n\\n1:24.0\\n\\xa0\\xa087-93\\xa0B. Mathurin enters the game for A. Nesmith\\n\\n\\n1:23.0\\n\\xa0\\xa087-95+2B. Mathurin makes 2-pt layup from 4 ft (assist by T. Haliburton)\\n\\n\\n1:23.0\\n\\xa0\\xa087-95\\xa0Shooting foul by J. Brunson (drawn by B. Mathurin)\\n\\n\\n1:23.0\\n\\xa0\\xa087-96+1B. Mathurin makes free throw 1 of 1\\n\\n\\n1:16.0\\nPersonal foul by B. Mathurin (drawn by J. Brunson)\\xa087-96\\xa0\\xa0\\n\\n\\n1:16.0\\nJ. Brunson makes free throw 1 of 2+188-96\\xa0\\xa0\\n\\n\\n1:16.0\\nM. Robinson enters the game for K. Towns\\xa088-96\\xa0\\xa0\\n\\n\\n1:16.0\\n\\xa0\\xa088-96\\xa0T. Bradley enters the game for M. Turner\\n\\n\\n1:16.0\\nJ. Brunson makes free throw 2 of 2+189-96\\xa0\\xa0\\n\\n\\n0:55.0\\n\\xa0\\xa089-99+3T. Haliburton makes 3-pt jump shot from 30 ft (assist by O. Toppin)\\n\\n\\n0:37.0\\nJ. Brunson makes 2-pt jump shot from 6 ft+291-99\\xa0\\xa0\\n\\n\\n0:21.0\\n\\xa0\\xa091-99\\xa0T. Haliburton misses 3-pt jump shot from 23 ft\\n\\n\\n0:19.0\\n\\xa0\\xa091-99\\xa0Offensive rebound by Team\\n\\n\\n0:19.0\\nLoose ball foul by J. Brunson (drawn by B. Mathurin)\\xa091-99\\xa0\\xa0\\n\\n\\n0:19.0\\n\\xa0\\xa091-100+1B. Mathurin makes free throw 1 of 2\\n\\n\\n0:19.0\\nK. Towns enters the game for M. Robinson\\xa091-100\\xa0\\xa0\\n\\n\\n0:19.0\\n\\xa0\\xa091-100\\xa0A. Nembhard enters the game for T. Haliburton\\n\\n\\n0:19.0\\n\\xa0\\xa091-100\\xa0B. Sheppard enters the game for T. McConnell\\n\\n\\n0:19.0\\n\\xa0\\xa091-100\\xa0P. Siakam enters the game for O. Toppin\\n\\n\\n0:19.0\\n\\xa0\\xa091-101+1B. Mathurin makes free throw 2 of 2\\n\\n\\n0:03.0\\nM. McBride misses 3-pt jump shot from 26 ft\\xa091-101\\xa0\\xa0\\n\\n\\n0:01.0\\n\\xa0\\xa091-101\\xa0Defensive rebound by Team\\n\\n\\n0:01.0\\nLoose ball foul by J. Hart (drawn by T. Bradley)\\xa091-101\\xa0\\xa0\\n\\n\\n0:01.0\\n\\xa0\\xa091-101\\xa0T. Bradley misses free throw 1 of 2\\n\\n\\n0:01.0\\n\\xa0\\xa091-101\\xa0Offensive rebound by Team\\n\\n\\n0:01.0\\n\\xa0\\xa091-101\\xa0O. Toppin enters the game for A. Nembhard\\n\\n\\n0:01.0\\n\\xa0\\xa091-102+1T. Bradley makes free throw 2 of 2\\n\\n\\n0:00.0\\nEnd of 3rd quarter\\n\\n\\n4th Q\\n\\n\\nTime\\nNew York\\n\\nScore\\n\\nIndiana\\n\\n\\n12:00.0\\nStart of 4th quarter\\n\\n\\n11:46.0\\nO. Anunoby makes 2-pt jump shot from 16 ft (assist by L. Shamet)+293-102\\xa0\\xa0\\n\\n\\n11:35.0\\n\\xa0\\xa093-104+2T. McConnell makes 2-pt jump shot from 7 ft\\n\\n\\n11:08.0\\nO. Anunoby misses 2-pt jump shot from 7 ft\\xa093-104\\xa0\\xa0\\n\\n\\n11:07.0\\n\\xa0\\xa093-104\\xa0Defensive rebound by Team\\n\\n\\n10:52.0\\n\\xa0\\xa093-104\\xa0P. Siakam misses 2-pt jump shot from 12 ft\\n\\n\\n10:49.0\\n\\xa0\\xa093-104\\xa0Offensive rebound by Team\\n\\n\\n10:49.0\\nLoose ball foul by J. Hart (drawn by B. Sheppard)\\xa093-104\\xa0\\xa0\\n\\n\\n10:46.0\\n\\xa0\\xa093-106+2B. Mathurin makes 2-pt dunk from 1 ft (assist by T. McConnell)\\n\\n\\n10:32.0\\nL. Shamet makes 3-pt jump shot from 26 ft (assist by K. Towns)+396-106\\xa0\\xa0\\n\\n\\n10:16.0\\n\\xa0\\xa096-108+2P. Siakam makes 2-pt layup from 4 ft (assist by B. Mathurin)\\n\\n\\n9:59.0\\nL. Shamet misses 2-pt layup from 2 ft\\xa096-108\\xa0\\xa0\\n\\n\\n9:57.0\\n\\xa0\\xa096-108\\xa0Defensive rebound by B. Sheppard\\n\\n\\n9:53.0\\n\\xa0\\xa096-111+3P. Siakam makes 3-pt jump shot from 24 ft (assist by B. Mathurin)\\n\\n\\n9:52.0\\nNew York full timeout\\xa096-111\\xa0\\xa0\\n\\n\\n9:52.0\\nD. Wright enters the game for M. McBride\\xa096-111\\xa0\\xa0\\n\\n\\n9:42.0\\nPersonal foul by M. Turner (drawn by K. Towns)\\xa096-111\\xa0\\xa0\\n\\n\\n9:37.0\\nK. Towns misses 2-pt layup from 4 ft (block by M. Turner)\\xa096-111\\xa0\\xa0\\n\\n\\n9:34.0\\nOffensive rebound by J. Hart\\xa096-111\\xa0\\xa0\\n\\n\\n9:29.0\\nO. Anunoby makes 3-pt jump shot from 27 ft+399-111\\xa0\\xa0\\n\\n\\n9:06.0\\n\\xa0\\xa099-111\\xa0Turnover by T. McConnell (traveling)\\n\\n\\n8:49.0\\nOffensive foul by K. Towns (drawn by M. Turner)\\xa099-111\\xa0\\xa0\\n\\n\\n8:49.0\\nTurnover by K. Towns (offensive foul)\\xa099-111\\xa0\\xa0\\n\\n\\n8:33.0\\n\\xa0\\xa099-111\\xa0Turnover by T. McConnell (bad pass; steal by O. Anunoby)\\n\\n\\n8:17.0\\nL. Shamet misses 3-pt jump shot from 23 ft\\xa099-111\\xa0\\xa0\\n\\n\\n8:14.0\\nOffensive rebound by O. Anunoby\\xa099-111\\xa0\\xa0\\n\\n\\n8:13.0\\nO. Anunoby misses 2-pt layup from 3 ft (block by P. Siakam)\\xa099-111\\xa0\\xa0\\n\\n\\n8:11.0\\nOffensive rebound by K. Towns\\xa099-111\\xa0\\xa0\\n\\n\\n8:09.0\\nK. Towns misses 2-pt layup from 3 ft\\xa099-111\\xa0\\xa0\\n\\n\\n8:09.0\\n\\xa0\\xa099-111\\xa0Defensive rebound by B. Sheppard\\n\\n\\n8:04.0\\nLoose ball foul by O. Anunoby (drawn by B. Mathurin)\\xa099-111\\xa0\\xa0\\n\\n\\n7:57.0\\n\\xa0\\xa099-111\\xa0Personal foul by J. Hart (drawn by B. Mathurin)\\n\\n\\n7:57.0\\n\\xa0\\xa099-111\\xa0T. Haliburton enters the game for T. McConnell\\n\\n\\n7:55.0\\n\\xa0\\xa099-111\\xa0Personal foul by K. Towns (drawn by M. Turner)\\n\\n\\n7:55.0\\nM. Bridges enters the game for L. Shamet\\xa099-111\\xa0\\xa0\\n\\n\\n7:55.0\\nJ. Brunson enters the game for D. Wright\\xa099-111\\xa0\\xa0\\n\\n\\n7:55.0\\n\\xa0\\xa099-111\\xa0A. Nesmith enters the game for B. Sheppard\\n\\n\\n7:52.0\\n\\xa0\\xa099-111\\xa0Shooting foul by J. Hart (drawn by B. Mathurin)\\n\\n\\n7:52.0\\n\\xa0\\xa099-112+1B. Mathurin makes free throw 1 of 2\\n\\n\\n7:52.0\\n\\xa0\\xa099-113+1B. Mathurin makes free throw 2 of 2\\n\\n\\n7:39.0\\nTurnover by M. Bridges (bad pass; steal by T. Haliburton)\\xa099-113\\xa0\\xa0\\n\\n\\n7:34.0\\n\\xa0\\xa099-113\\xa0Turnover by A. Nesmith (bad pass; steal by O. Anunoby)\\n\\n\\n7:25.0\\nO. Anunoby misses 3-pt jump shot from 24 ft\\xa099-113\\xa0\\xa0\\n\\n\\n7:21.0\\n\\xa0\\xa099-113\\xa0Defensive rebound by M. Turner\\n\\n\\n7:14.0\\n\\xa0\\xa099-113\\xa0B. Mathurin misses 3-pt jump shot from 23 ft\\n\\n\\n7:13.0\\nDefensive rebound by Team\\xa099-113\\xa0\\xa0\\n\\n\\n7:01.0\\nShooting foul by P. Siakam (drawn by J. Hart)\\xa099-113\\xa0\\xa0\\n\\n\\n7:01.0\\nJ. Hart makes free throw 1 of 2+1100-113\\xa0\\xa0\\n\\n\\n7:01.0\\n\\xa0\\xa0100-113\\xa0A. Nembhard enters the game for B. Mathurin\\n\\n\\n7:01.0\\nJ. Hart misses free throw 2 of 2\\xa0100-113\\xa0\\xa0\\n\\n\\n7:00.0\\n\\xa0\\xa0100-113\\xa0Defensive rebound by A. Nesmith\\n\\n\\n6:45.0\\n\\xa0\\xa0100-113\\xa0A. Nesmith misses 3-pt jump shot from 27 ft\\n\\n\\n6:40.0\\nDefensive rebound by J. Hart\\xa0100-113\\xa0\\xa0\\n\\n\\n6:31.0\\nShooting foul by P. Siakam (drawn by J. Hart)\\xa0100-113\\xa0\\xa0\\n\\n\\n6:31.0\\nJ. Hart makes free throw 1 of 2+1101-113\\xa0\\xa0\\n\\n\\n6:31.0\\n\\xa0\\xa0101-113\\xa0O. Toppin enters the game for P. Siakam\\n\\n\\n6:31.0\\n\\xa0\\xa0101-113\\xa0Indiana full timeout\\n\\n\\n6:31.0\\nJ. Hart makes free throw 2 of 2+1102-113\\xa0\\xa0\\n\\n\\n6:24.0\\n\\xa0\\xa0102-115+2T. Haliburton makes 2-pt layup from 6 ft\\n\\n\\n6:04.0\\nShooting foul by A. Nembhard (drawn by O. Anunoby)\\xa0102-115\\xa0\\xa0\\n\\n\\n6:04.0\\nO. Anunoby misses free throw 1 of 2\\xa0102-115\\xa0\\xa0\\n\\n\\n6:04.0\\nOffensive rebound by Team\\xa0102-115\\xa0\\xa0\\n\\n\\n6:04.0\\nO. Anunoby misses free throw 2 of 2\\xa0102-115\\xa0\\xa0\\n\\n\\n6:02.0\\n\\xa0\\xa0102-115\\xa0Defensive rebound by T. Haliburton\\n\\n\\n5:54.0\\n\\xa0\\xa0102-115\\xa0T. Haliburton misses 3-pt jump shot from 28 ft\\n\\n\\n5:51.0\\nDefensive rebound by O. Anunoby\\xa0102-115\\xa0\\xa0\\n\\n\\n5:37.0\\nM. Bridges makes 3-pt jump shot from 27 ft (assist by K. Towns)+3105-115\\xa0\\xa0\\n\\n\\n5:20.0\\n\\xa0\\xa0105-115\\xa0T. Haliburton misses 2-pt jump shot from 14 ft\\n\\n\\n5:18.0\\nDefensive rebound by K. Towns\\xa0105-115\\xa0\\xa0\\n\\n\\n5:10.0\\nShooting foul by T. Haliburton (drawn by O. Anunoby)\\xa0105-115\\xa0\\xa0\\n\\n\\n5:10.0\\nO. Anunoby makes free throw 1 of 2+1106-115\\xa0\\xa0\\n\\n\\n5:10.0\\n\\xa0\\xa0106-115\\xa0P. Siakam enters the game for O. Toppin\\n\\n\\n5:10.0\\nO. Anunoby makes free throw 2 of 2+1107-115\\xa0\\xa0\\n\\n\\n4:49.0\\n\\xa0\\xa0107-115\\xa0A. Nembhard misses 2-pt jump shot from 17 ft\\n\\n\\n4:47.0\\nDefensive rebound by Team\\xa0107-115\\xa0\\xa0\\n\\n\\n4:27.0\\nJ. Brunson misses 2-pt jump shot from 11 ft\\xa0107-115\\xa0\\xa0\\n\\n\\n4:24.0\\nOffensive rebound by K. Towns\\xa0107-115\\xa0\\xa0\\n\\n\\n4:24.0\\nK. Towns makes 2-pt layup from 4 ft+2109-115\\xa0\\xa0\\n\\n\\n4:11.0\\n\\xa0\\xa0109-118+3P. Siakam makes 3-pt jump shot from 24 ft (assist by A. Nembhard)\\n\\n\\n3:51.0\\nM. Bridges makes 3-pt jump shot from 27 ft (assist by J. Brunson)+3112-118\\xa0\\xa0\\n\\n\\n3:40.0\\n\\xa0\\xa0112-120+2T. Haliburton makes 2-pt layup from 3 ft\\n\\n\\n3:21.0\\nJ. Hart misses 2-pt dunk from 3 ft (block by M. Turner)\\xa0112-120\\xa0\\xa0\\n\\n\\n3:17.0\\nOffensive rebound by J. Hart\\xa0112-120\\xa0\\xa0\\n\\n\\n3:17.0\\nJ. Hart makes 2-pt layup from 4 ft+2114-120\\xa0\\xa0\\n\\n\\n3:06.0\\n\\xa0\\xa0114-120\\xa0Indiana full timeout\\n\\n\\n2:55.0\\n\\xa0\\xa0114-120\\xa0A. Nembhard misses 2-pt jump shot from 16 ft\\n\\n\\n2:52.0\\n\\xa0\\xa0114-120\\xa0Offensive rebound by P. Siakam\\n\\n\\n2:52.0\\n\\xa0\\xa0114-120\\xa0P. Siakam misses 2-pt layup at rim\\n\\n\\n2:52.0\\n\\xa0\\xa0114-120\\xa0Offensive rebound by M. Turner\\n\\n\\n2:52.0\\n\\xa0\\xa0114-120\\xa0Shooting foul by M. Bridges (drawn by M. Turner)\\n\\n\\n2:52.0\\n\\xa0\\xa0114-120\\xa0M. Turner misses free throw 1 of 2\\n\\n\\n2:52.0\\n\\xa0\\xa0114-120\\xa0Offensive rebound by Team\\n\\n\\n2:52.0\\n\\xa0\\xa0114-121+1M. Turner makes free throw 2 of 2\\n\\n\\n2:30.0\\nOffensive foul by O. Anunoby (drawn by A. Nesmith)\\xa0114-121\\xa0\\xa0\\n\\n\\n2:30.0\\nTurnover by O. Anunoby (offensive foul)\\xa0114-121\\xa0\\xa0\\n\\n\\n2:11.0\\n\\xa0\\xa0114-121\\xa0Offensive foul by M. Turner (drawn by K. Towns)\\n\\n\\n2:11.0\\n\\xa0\\xa0114-121\\xa0Turnover by M. Turner (offensive foul)\\n\\n\\n2:11.0\\nNew York full timeout\\xa0114-121\\xa0\\xa0\\n\\n\\n2:11.0\\nInstant Replay (Challenge: Ruling Stands)\\xa0114-121\\xa0\\xa0\\n\\n\\n1:56.0\\nM. Bridges misses 2-pt jump shot from 20 ft\\xa0114-121\\xa0\\xa0\\n\\n\\n1:55.0\\nOffensive rebound by Team\\xa0114-121\\xa0\\xa0\\n\\n\\n1:52.0\\nM. Bridges misses 2-pt jump shot from 18 ft\\xa0114-121\\xa0\\xa0\\n\\n\\n1:48.0\\n\\xa0\\xa0114-121\\xa0Defensive rebound by T. Haliburton\\n\\n\\n1:44.0\\n\\xa0\\xa0114-121\\xa0P. Siakam misses 2-pt layup from 3 ft (block by O. Anunoby)\\n\\n\\n1:44.0\\n\\xa0\\xa0114-121\\xa0Offensive rebound by Team\\n\\n\\n1:44.0\\n\\xa0\\xa0114-121\\xa0Personal foul by J. Hart (drawn by P. Siakam)\\n\\n\\n1:44.0\\nL. Shamet enters the game for J. Hart\\xa0114-121\\xa0\\xa0\\n\\n\\n1:44.0\\n\\xa0\\xa0114-122+1P. Siakam makes free throw 1 of 2\\n\\n\\n1:44.0\\n\\xa0\\xa0114-123+1P. Siakam makes free throw 2 of 2\\n\\n\\n1:33.0\\nM. Bridges misses 3-pt jump shot from 23 ft\\xa0114-123\\xa0\\xa0\\n\\n\\n1:29.0\\n\\xa0\\xa0114-123\\xa0Defensive rebound by T. Haliburton\\n\\n\\n1:15.0\\n\\xa0\\xa0114-123\\xa0P. Siakam misses 2-pt jump shot from 17 ft\\n\\n\\n1:12.0\\nDefensive rebound by L. Shamet\\xa0114-123\\xa0\\xa0\\n\\n\\n1:09.0\\nShooting foul by M. Turner (drawn by O. Anunoby)\\xa0114-123\\xa0\\xa0\\n\\n\\n1:09.0\\n\\xa0\\xa0114-123\\xa0O. Toppin enters the game for M. Turner\\n\\n\\n1:09.0\\nO. Anunoby makes free throw 1 of 2+1115-123\\xa0\\xa0\\n\\n\\n1:09.0\\nO. Anunoby makes free throw 2 of 2+1116-123\\xa0\\xa0\\n\\n\\n0:47.0\\n\\xa0\\xa0116-123\\xa0A. Nembhard misses 2-pt jump shot from 14 ft (block by J. Brunson)\\n\\n\\n0:47.0\\n\\xa0\\xa0116-123\\xa0Offensive rebound by Team\\n\\n\\n0:46.0\\n\\xa0\\xa0116-126+3O. Toppin makes 3-pt jump shot from 27 ft (assist by T. Haliburton)\\n\\n\\n0:37.0\\nJ. Brunson misses 2-pt hook shot from 7 ft\\xa0116-126\\xa0\\xa0\\n\\n\\n0:33.0\\n\\xa0\\xa0116-126\\xa0Defensive rebound by T. Haliburton\\n\\n\\n0:21.0\\n\\xa0\\xa0116-126\\xa0Personal take foul by J. Brunson (drawn by P. Siakam)\\n\\n\\n0:21.0\\n\\xa0\\xa0116-127+1P. Siakam makes free throw 1 of 2\\n\\n\\n0:21.0\\n\\xa0\\xa0116-127\\xa0B. Mathurin enters the game for T. Haliburton\\n\\n\\n0:21.0\\n\\xa0\\xa0116-127\\xa0T. McConnell enters the game for A. Nesmith\\n\\n\\n0:21.0\\n\\xa0\\xa0116-127\\xa0P. Siakam misses free throw 2 of 2\\n\\n\\n0:20.0\\nDefensive rebound by L. Shamet\\xa0116-127\\xa0\\xa0\\n\\n\\n0:16.0\\nJ. Brunson makes 2-pt layup from 2 ft (assist by L. Shamet)+2118-127\\xa0\\xa0\\n\\n\\n0:14.0\\n\\xa0\\xa0118-127\\xa0Personal foul by O. Anunoby (drawn by B. Mathurin)\\n\\n\\n0:14.0\\n\\xa0\\xa0118-128+1B. Mathurin makes free throw 1 of 2\\n\\n\\n0:14.0\\n\\xa0\\xa0118-128\\xa0B. Mathurin misses free throw 2 of 2\\n\\n\\n0:12.0\\nDefensive rebound by K. Towns\\xa0118-128\\xa0\\xa0\\n\\n\\n0:08.0\\nM. Bridges makes 3-pt jump shot from 28 ft (assist by K. Towns)+3121-128\\xa0\\xa0\\n\\n\\n0:06.0\\n\\xa0\\xa0121-128\\xa0Personal take foul by M. Bridges (drawn by B. Mathurin)\\n\\n\\n0:06.0\\n\\xa0\\xa0121-129+1B. Mathurin makes free throw 1 of 2\\n\\n\\n0:06.0\\n\\xa0\\xa0121-130+1B. Mathurin makes free throw 2 of 2\\n\\n\\n0:03.0\\nL. Shamet misses 2-pt jump shot from 23 ft\\xa0121-130\\xa0\\xa0\\n\\n\\n0:03.0\\n\\xa0\\xa0121-130\\xa0Defensive rebound by B. Mathurin\\n\\n\\n0:00.0\\nEnd of 4th quarter\")]"
      ]
     },
     "execution_count": 37,
     "metadata": {},
     "output_type": "execute_result"
    }
   ],
   "source": [
    "chunks"
   ]
  },
  {
   "cell_type": "code",
   "execution_count": null,
   "id": "d9ab76c4-7b5a-4b0d-b29c-c2ed95bdd3cf",
   "metadata": {},
   "outputs": [],
   "source": []
  }
 ],
 "metadata": {
  "kernelspec": {
   "display_name": "Python 3 (ipykernel)",
   "language": "python",
   "name": "python3"
  },
  "language_info": {
   "codemirror_mode": {
    "name": "ipython",
    "version": 3
   },
   "file_extension": ".py",
   "mimetype": "text/x-python",
   "name": "python",
   "nbconvert_exporter": "python",
   "pygments_lexer": "ipython3",
   "version": "3.10.4"
  }
 },
 "nbformat": 4,
 "nbformat_minor": 5
}
